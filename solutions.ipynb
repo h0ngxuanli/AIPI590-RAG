{
 "cells": [
  {
   "cell_type": "markdown",
   "metadata": {},
   "source": [
    "# Prepare Data"
   ]
  },
  {
   "cell_type": "code",
   "execution_count": 6,
   "metadata": {},
   "outputs": [
    {
     "name": "stdout",
     "output_type": "stream",
     "text": [
      "Collecting wikipedia-api\n",
      "  Downloading Wikipedia_API-0.6.0-py3-none-any.whl.metadata (22 kB)\n",
      "Requirement already satisfied: requests in /Users/lihongxuan/opt/anaconda3/lib/python3.9/site-packages (from wikipedia-api) (2.28.2)\n",
      "Requirement already satisfied: charset-normalizer<4,>=2 in /Users/lihongxuan/opt/anaconda3/lib/python3.9/site-packages (from requests->wikipedia-api) (2.0.4)\n",
      "Requirement already satisfied: idna<4,>=2.5 in /Users/lihongxuan/opt/anaconda3/lib/python3.9/site-packages (from requests->wikipedia-api) (3.3)\n",
      "Requirement already satisfied: urllib3<1.27,>=1.21.1 in /Users/lihongxuan/opt/anaconda3/lib/python3.9/site-packages (from requests->wikipedia-api) (1.26.11)\n",
      "Requirement already satisfied: certifi>=2017.4.17 in /Users/lihongxuan/opt/anaconda3/lib/python3.9/site-packages (from requests->wikipedia-api) (2022.9.24)\n",
      "Downloading Wikipedia_API-0.6.0-py3-none-any.whl (14 kB)\n",
      "Installing collected packages: wikipedia-api\n",
      "Successfully installed wikipedia-api-0.6.0\n",
      "\n",
      "\u001b[1m[\u001b[0m\u001b[34;49mnotice\u001b[0m\u001b[1;39;49m]\u001b[0m\u001b[39;49m A new release of pip is available: \u001b[0m\u001b[31;49m23.3.1\u001b[0m\u001b[39;49m -> \u001b[0m\u001b[32;49m24.0\u001b[0m\n",
      "\u001b[1m[\u001b[0m\u001b[34;49mnotice\u001b[0m\u001b[1;39;49m]\u001b[0m\u001b[39;49m To update, run: \u001b[0m\u001b[32;49mpip install --upgrade pip\u001b[0m\n"
     ]
    }
   ],
   "source": [
    "!pip3 install wikipedia-api"
   ]
  },
  {
   "cell_type": "code",
   "execution_count": 54,
   "metadata": {},
   "outputs": [],
   "source": [
    "import wikipediaapi\n",
    "\n",
    "\n",
    "\n",
    "def get_categorymembers(categorymembers, level=0, max_level=1, root_pages=None):\n",
    "    if root_pages is None:\n",
    "        root_pages = []\n",
    "\n",
    "    for c in categorymembers.values():\n",
    "        if c.ns == wikipediaapi.Namespace.CATEGORY and level < max_level:\n",
    "            get_categorymembers(c.categorymembers, level=level + 1, max_level=max_level, root_pages=root_pages)\n",
    "        else:\n",
    "            if c.title.startswith('Category'):\n",
    "                try:\n",
    "                    title  = c.title.split(\":\")[1]\n",
    "                except:\n",
    "                    continue\n",
    "            else:\n",
    "                title = c.title\n",
    "            root_pages.append(title)\n",
    "    return root_pages\n",
    "\n",
    "def get_root_pages_from_category(category_name):\n",
    "    cat = wiki_wiki.page(f\"Category:{category_name}\")\n",
    "    return get_categorymembers(cat.categorymembers)\n",
    "\n",
    "# Example usage:\n",
    "\n",
    "API_KEY = 'aipi590 (hongxuan.li@duke.edu)'\n",
    "wiki_wiki = wikipediaapi.Wikipedia(API_KEY, 'en', extract_format=wikipediaapi.ExtractFormat.WIKI)\n",
    "\n",
    "domains = [\"Statistics\", \"Artificial intelligence\", \"Computational mathematics\", \"Numerical analysis\", \"Applied mathematics\", \"Probability\"]\n",
    "root_pages = []\n",
    "for domain in domains:\n",
    "    root_page = get_root_pages_from_category(domain)\n",
    "    root_pages += root_page\n",
    "\n",
    "root_pages = set(root_pages)\n",
    "\n",
    "# print(wiki_wiki.page(\"Random forest\").text)"
   ]
  },
  {
   "cell_type": "code",
   "execution_count": 56,
   "metadata": {},
   "outputs": [],
   "source": [
    "from mediawikiapi import MediaWikiAPI\n",
    "mediawikiapi = MediaWikiAPI()\n",
    "\n",
    "wiki_data = {\"topic\":[], \"text\":[]}\n",
    "for page in root_pages:\n",
    "   wiki_data[\"topic\"].append(page)\n",
    "   try:\n",
    "      wiki_data[\"text\"].append(mediawikiapi.page(page).content)\n",
    "   except:\n",
    "      wiki_data[\"text\"].append(\" \")\n",
    "# wiki_data = {\"topic\":[], \"text\":[]}\n",
    "# for page in root_pages:\n",
    "#    wiki_data[\"topic\"].append(page)\n",
    "#    wiki_data[\"text\"].append(wiki_wiki.page(page).text)\n"
   ]
  },
  {
   "cell_type": "code",
   "execution_count": 65,
   "metadata": {},
   "outputs": [],
   "source": [
    "# import pandas as pd \n",
    "# wiki_df = pd.DataFrame(wiki_data)\n",
    "# wiki_df = wiki_df.query(\"text.str.len() > 1\")\n",
    "# wiki_df = wiki_df.reset_index(drop=True)\n",
    "# wiki_df.to_parquet('./data/wiki_ml_mediawiki.parquet')\n",
    "\n"
   ]
  },
  {
   "cell_type": "code",
   "execution_count": 234,
   "metadata": {},
   "outputs": [],
   "source": [
    "import pandas as pd \n",
    "\n",
    "def find_noise_section(strings):\n",
    "    for index, string in enumerate(strings):\n",
    "        if string.startswith(\"See also.\") or string.startswith(\"External links.\") or string.startswith(\"References.\") or string.startswith(\"Bibliography.\"):\n",
    "            return index\n",
    "    return -1\n",
    "\n",
    "\n",
    "wiki_df = pd.read_parquet('./data/wiki_ml_mediawiki.parquet')\n",
    "\n",
    "def clean_text(text):\n",
    "    \n",
    "    paragraphs = list(clean_markup(text, ignore_headers=False))\n",
    "    \n",
    "    # text = [paragraph for paragraph in paragraphs if len(paragraph) > 3]\n",
    "    text = []\n",
    "    for paragraph in paragraphs:\n",
    "        if len(paragraph) > 5 or len(text) == 0:\n",
    "            text.append(paragraph)\n",
    "        else:\n",
    "            text[-1] = text[-1] + \" \" + \" \".join(paragraph.split(\" \"))\n",
    "    text = \"\\n\".join(text)\n",
    "    \n",
    "    index = find_noise_section(text.split(\"## \"))\n",
    "    if index!= -1:\n",
    "        text = text.split(\"## \")[:index]\n",
    "        return \" ##\".join(text)\n",
    "    \n",
    "    return text\n",
    "    \n",
    "\n",
    "wiki_df.text = wiki_df.text.apply(clean_text)\n",
    "wiki_df[\"id\"] = wiki_df.index\n",
    "wiki_df.to_parquet('./data/wiki_ml_mediawiki_cleaned.parquet')"
   ]
  },
  {
   "cell_type": "code",
   "execution_count": 233,
   "metadata": {},
   "outputs": [
    {
     "data": {
      "text/plain": [
       "'Artificial psychology (AP) has had multiple meanings dating back to 19th century, with recent usage related to artificial intelligence (AI).\\nIn 1999, Zhiliang Wang and Lun Xie presented a theory of artificial psychology based on artificial intelligence. They analyze human psychology using information science research methods and artificial intelligence research to probe deeper into the human mind.\\n## Main Theory.\\nDan Curtis (b. 1963) proposed AP is a theoretical discipline. The theory considers the situation when an artificial intelligence approaches the level of complexity where the intelligence meets two conditions:\\nCondition I\\nA: Makes all of its decisions autonomously\\nB: Is capable of making decisions based on information that isNew\\nAbstract\\nIncompleteC: The artificial intelligence is capable of reprogramming itself based on the new data, allowing it to evolve.\\nD: And is capable of resolving its own programming conflicts, even in the presence of incomplete data. This means that the intelligence autonomously makes value-based decisions, referring to values that the intelligence has created for itself.Condition II\\nAll four criteria are met in situations that are not part of the original operating programWhen both conditions are met, then, according to this theory, the possibility exists that the intelligence will reach irrational conclusions based on real or created information. At this point, the criteria are met for intervention which will not necessarily be resolved by simple re-coding of processes due to extraordinarily complex nature of the codebase itself; but rather a discussion with the intelligence in a format which more closely resembles classical (human) psychology.\\nIf the intelligence cannot be reprogrammed by directly inputting new code, but requires the intelligence to reprogram itself through a process of analysis and decision based on information provided by a human, in order for it to overcome behavior which is inconsistent with the machines purpose or ability to function normally, then artificial psychology is by definition, what is required.\\nThe level of complexity that is required before these thresholds are met is currently a subject of extensive debate. The theory of artificial psychology does not address the specifics of what those levels may be, but only that the level is sufficiently complex that the intelligence cannot simply be recoded by a software developer, and therefore dysfunctionality must be addressed through the same processes that humans must go through to address their own dysfunctionalities. Along the same lines, artificial psychology does not address the question of whether or not the intelligence is conscious.\\nAs of 2022, the level of artificial intelligence does not approach any threshold where any of the theories or principles of artificial psychology can even be tested, and therefore, artificial psychology remains a largely theoretical discipline. Even at a theoretical level, artificial psychology remains an advanced stage of artificial intelligence.\\n## Further reading.\\nHolstein, Hans Jürgen; Stålberg, Lennart (1974). Homo Cyberneticus: Artificial psychology and generative micro-sociology. Sociografica.\\nLu, Quan; Chen, Jing; Meng, Bo (2006). Feng, Ling; Wang, Guoren; Zeng, Cheng; Huang, Ruhua (eds.). \"Web Personalization Based on Artificial Psychology\". Web Information Systems – WISE 2006 Workshops. Lecture Notes in Computer Science. Springer Berlin Heidelberg. 4256: 223–229. doi:10.1007/11906070_22. ISBN 9783540476641.\\nCrowder, James A.; Friess, Shelli (2012). Artificial psychology: the psychology of AI (PDF). Proceedings of the 3rd annual international multi-conference on informatics and etics. CiteSeerX 10.1.1.368.170.\\nArtificial psychology: an attainable scientific research on the human brain. (1999). Proceedings of the Second International Conference on Intelligent Processing and Manufacturing of Materials. IPMM’99 (Cat. No.99EX296), Intelligent Processing and Manufacturing of Materials, 1999. IPMM ’99. Proceedings of the Second International Conference On, 1067. doi:10.1109/IPMM.1999.791528'"
      ]
     },
     "execution_count": 233,
     "metadata": {},
     "output_type": "execute_result"
    }
   ],
   "source": [
    "# wiki_df = pd.read_parquet('./data/wiki_ml_mediawiki.parquet')\n",
    "# topic = \"Artificial psychology\"\n",
    "# text = wiki_df.query(\"topic == @topic\").text.values[0]\n",
    "# text = list(clean_markup(text, ignore_headers=False))\n",
    "# text = \"\\n\".join(text)\n",
    "# index = find_noise_section(text.split(\"## \"))\n",
    "# text"
   ]
  },
  {
   "cell_type": "code",
   "execution_count": 222,
   "metadata": {},
   "outputs": [
    {
     "name": "stdout",
     "output_type": "stream",
     "text": [
      "In mathematics, a graph partition is the reduction of a graph to a smaller graph by partitioning its set of nodes into mutually exclusive groups. Edges of the original graph that cross between the groups will produce edges in the partitioned graph. If the number of resulting edges is small compared to the original graph, then the partitioned graph may be better suited for analysis and problem-solving than the original. Finding a partition that simplifies graph analysis is a hard problem, but one that has applications to scientific computing, VLSI circuit design, and task scheduling in multiprocessor computers, among others. Recently, the graph partition problem has gained importance due to its application for clustering and detection of cliques in social, pathological and biological networks. For a survey on recent trends in computational methods and applications see Buluc et al. (2013).\n",
      "Two common examples of graph partitioning are minimum cut and maximum cut problems.\n",
      " ##Problem complexity.\n",
      "Typically, graph partition problems fall under the category of NP-hard problems. Solutions to these problems are generally derived using heuristics and approximation algorithms. However, uniform graph partitioning or a balanced graph partition problem can be shown to be NP-complete to approximate within any finite factor. Even for special graph classes such as trees and grids, no reasonable approximation algorithms exist, unless P=NP. Grids are a particularly interesting case since they model the graphs resulting from Finite Element Model (FEM) simulations. When not only the number of edges between the components is approximated, but also the sizes of the components, it can be shown that no reasonable fully polynomial algorithms exist for these graphs.\n",
      " ##Problem.\n",
      "Consider a graph G = (V, E), where V denotes the set of n vertices and E the set of edges. For a (k,v) balanced partition problem, the objective is to partition G into k components of at most size v · (n/k), while minimizing the capacity of the edges between separate components. Also, given G and an integer k &gt; 1, partition V into k parts (subsets) V1, V2, ..., Vk such that the parts are disjoint and have equal size, and the number of edges with endpoints in different parts is minimized. Such partition problems have been discussed in literature as bicriteria-approximation or resource augmentation approaches. A common extension is to hypergraphs, where an edge can connect more than two vertices. A hyperedge is not cut if all vertices are in one partition, and cut exactly once otherwise, no matter how many vertices are on each side. This usage is common in electronic design automation.\n",
      " ##Analysis.\n",
      "For a specific (k, 1 + ε) balanced partition problem, we seek to find a minimum cost partition of G into k components with each component containing a maximum of (1 + ε)·(n/k) nodes. We compare the cost of this approximation algorithm to the cost of a (k,1) cut, wherein each of the k components must have the same size of (n/k) nodes each, thus being a more restricted problem. Thus,      max  i    |    V  i    |  ≤  1  ε        |  V  |    k      \n",
      " We already know that (2,1) cut is the minimum bisection problem and it is NP-complete. Next, we assess a 3-partition problem wherein n = 3k, which is also bounded in polynomial time. Now, if we assume that we have a finite approximation algorithm for (k, 1)-balanced partition, then, either the 3-partition instance can be solved using the balanced (k,1) partition in G or it cannot be solved. If the 3-partition instance can be solved, then (k, 1)-balanced partitioning problem in G can be solved without cutting any edge. Otherwise, if the 3-partition instance cannot be solved, the optimum (k, 1)-balanced partitioning in G will cut at least one edge. An approximation algorithm with a finite approximation factor has to differentiate between these two cases. Hence, it can solve the 3-partition problem which is a contradiction under the assumption that P = NP. Thus, it is evident that (k,1)-balanced partitioning problem has no polynomial-time approximation algorithm with a finite approximation factor unless P = NP.The planar separator theorem states that any n-vertex planar graph can be partitioned into roughly equal parts by the removal of O(√n) vertices. This is not a partition in the sense described above, because the partition set consists of vertices rather than edges. However, the same result also implies that every planar graph of bounded degree has a balanced cut with O(√n) edges.\n",
      " ##Graph partition methods.\n",
      "Since graph partitioning is a hard problem, practical solutions are based on heuristics. There are two broad categories of methods, local and global. Well-known local methods are the Kernighan–Lin algorithm, and Fiduccia-Mattheyses algorithms, which were the first effective 2-way cuts by local search strategies. Their major drawback is the arbitrary initial partitioning of the vertex set, which can affect the final solution quality. Global approaches rely on properties of the entire graph and do not rely on an arbitrary initial partition. The most common example is spectral partitioning, where a partition is derived from approximate eigenvectors of the adjacency matrix, or spectral clustering that groups graph vertices using the eigendecomposition of the graph Laplacian matrix.\n",
      " ##Multi-level methods.\n",
      "A multi-level graph partitioning algorithm works by applying one or more stages. Each stage reduces the size of\n",
      "the graph by collapsing vertices and edges, partitions the smaller graph, then maps back and refines this partition of the original graph. A wide variety of partitioning and refinement methods can be applied within the overall multi-level scheme. In many cases, this approach can give both fast execution times and very high quality results. \n",
      "One widely used example of such an approach is METIS, a graph partitioner, and hMETIS, the corresponding partitioner for hypergraphs.\n",
      "An alternative approach originated from \n",
      "and implemented, e.g., in scikit-learn is spectral clustering with the partitioning determined from eigenvectors of the graph Laplacian matrix for the original graph computed by LOBPCG solver with multigrid preconditioning.\n",
      " ##Spectral partitioning and spectral bisection.\n",
      "Given a graph     G  (  V  E  \n",
      " with adjacency matrix     A  \n",
      " , where an entry       A  i  j    \n",
      " implies an edge between node     i    and     j  \n",
      " , and degree matrix     D  \n",
      " , which is a diagonal matrix, where each diagonal entry of a row     i        d  i  i    \n",
      " , represents the node degree of node     i  \n",
      " . The Laplacian matrix     L  \n",
      " is defined as     L  D  A  \n",
      " . Now, a ratio-cut partition for graph     G  (  V  E  \n",
      " is defined as a partition of     V  \n",
      " into disjoint     U  \n",
      " , and     W  \n",
      " , minimizing the ratio        |  E  G  ∩  U  W        |  U  |  ⋅  |  W  |      \n",
      " of the number of edges that actually cross this cut to the number of pairs of vertices that could support such edges. Spectral graph partitioning can be motivated by analogy with partitioning of a vibrating string or a mass-spring system and similarly extended to the case of negative weights of the graph.\n",
      " ##Fiedler eigenvalue and eigenvector.\n",
      "In such a scenario, the second smallest eigenvalue (      λ  2    \n",
      " ) of     L  \n",
      " , yields a lower bound on the optimal cost (    c  \n",
      " ) of ratio-cut partition with     c      λ  2    n    \n",
      " . The eigenvector (      V  2    \n",
      " ) corresponding to       λ  2    \n",
      " , called the Fiedler vector, bisects the graph into only two communities based on the sign of the corresponding vector entry. Division into a larger number of communities can be achieved by repeated bisection or by using multiple eigenvectors corresponding to the smallest eigenvalues. The examples in Figures 1,2 illustrate the spectral bisection approach.\n",
      " ##Modularity and ratio-cut.\n",
      "Minimum cut partitioning however fails when the number of communities to be partitioned, or the partition sizes are unknown. For instance, optimizing the cut size for free group sizes puts all vertices in the same community. Additionally, cut size may be the wrong thing to minimize since a good division is not just one with small number of edges between communities. This motivated the use of Modularity (Q) as a metric to optimize a balanced graph partition. The example in Figure 3 illustrates 2 instances of the same graph such that in (a) modularity (Q) is the partitioning metric and in (b), ratio-cut is the partitioning metric.\n",
      " ##Applications.\n",
      " ##Conductance.\n",
      "Another objective function used for graph partitioning is Conductance which is the ratio between the number of cut edges and the volume of the smallest part. Conductance is related to electrical flows and random walks. The Cheeger bound guarantees that spectral bisection provides partitions with nearly optimal conductance. The quality of this approximation depends on the second smallest eigenvalue of the Laplacian λ2.\n",
      " ##Immunization.\n",
      "Graph partition can be useful for identifying the minimal set of nodes or links that should be immunized in order to stop epidemics.\n",
      " ##Other graph partition methods.\n",
      "Spin models have been used for clustering of multivariate data wherein similarities are translated into coupling strengths. The properties of ground state spin configuration can be directly interpreted as communities. Thus, a graph is partitioned to minimize the Hamiltonian of the partitioned graph. The Hamiltonian (H) is derived by assigning the following partition rewards and penalties.\n",
      "Reward internal edges between nodes of same group (same spin)\n",
      "Penalize missing edges in same group\n",
      "Penalize existing edges between different groups\n",
      "Reward non-links between different groups.Additionally, Kernel-PCA-based Spectral clustering takes a form of least squares Support Vector Machine framework, and hence it becomes possible to project the data entries to a kernel induced feature space that has maximal variance, thus implying a high separation between the projected communities.Some methods express graph partitioning as a multi-criteria optimization problem which can be solved using local methods expressed in a game theoretic framework where each node makes a decision on the partition it chooses.For very large-scale distributed graphs classical partition methods might not apply (e.g., spectral partitioning, Metis) since they require full access to graph data in order to perform global operations. For such large-scale scenarios distributed graph partitioning is used to perform partitioning through asynchronous local operations only.\n",
      " ##Software tools.\n",
      "scikit-learn implements spectral clustering with the partitioning determined from eigenvectors of the graph Laplacian matrix for the original graph computed by ARPACK, or by LOBPCG solver with multigrid preconditioning.Chaco, due to Hendrickson and Leland, implements the multilevel approach outlined above and basic local search algorithms. \n",
      "Moreover, they implement spectral partitioning techniques.\n",
      "METIS is a graph partitioning family by Karypis and Kumar. Among this family, kMetis aims at greater partitioning speed, hMetis, applies to hypergraphs and aims at partition quality, and ParMetis is a parallel implementation of the Metis graph partitioning algorithm.\n",
      "PaToH is another hypergraph partitioner.\n",
      "KaHyPar is a multilevel hypergraph partitioning framework providing direct k-way and recursive bisection based partitioning algorithms. It instantiates the multilevel approach in its most extreme version, removing only a single vertex in every level of the hierarchy. By using this very fine grained n-level approach combined with strong local search heuristics, it computes solutions of very high quality.\n",
      "Scotch is graph partitioning framework by Pellegrini. It uses recursive multilevel bisection and includes sequential as well as parallel partitioning techniques.\n",
      "Jostle is a sequential and parallel graph partitioning solver developed by Chris Walshaw. \n",
      "The commercialized version of this partitioner is known as NetWorks.\n",
      "Party implements the Bubble/shape-optimized framework and the Helpful Sets algorithm.\n",
      "The software packages DibaP and its MPI-parallel variant PDibaP by Meyerhenke implement the Bubble framework using diffusion; DibaP also uses AMG-based techniques for coarsening and solving linear systems arising in the diffusive approach.\n",
      "Sanders and Schulz released a graph partitioning package KaHIP (Karlsruhe High Quality Partitioning) that implements for example flow-based methods, more-localized local searches and several parallel and sequential meta-heuristics.\n",
      "The tools Parkway by Trifunovic and\n",
      "Knottenbelt as well as Zoltan by Devine et al. focus on hypergraph\n",
      "partitioning.\n",
      "\n"
     ]
    }
   ],
   "source": [
    "  \n",
    "\n",
    "text = wiki_df.iloc[[811],:].text.values[0]\n",
    "# print(find_index_of_special_string(text.split(\"## \")))\n",
    "# text.split(\"## \")\n",
    "print(text)"
   ]
  },
  {
   "cell_type": "code",
   "execution_count": 236,
   "metadata": {},
   "outputs": [
    {
     "data": {
      "text/plain": [
       "['and',\n",
       " 'implemented,',\n",
       " 'e.g.,',\n",
       " 'in',\n",
       " 'scikit-learn',\n",
       " 'is',\n",
       " 'spectral',\n",
       " 'clustering']"
      ]
     },
     "execution_count": 236,
     "metadata": {},
     "output_type": "execute_result"
    }
   ],
   "source": [
    "\"and implemented, e.g., in scikit-learn is spectral clustering\".split()"
   ]
  },
  {
   "cell_type": "code",
   "execution_count": 7,
   "metadata": {},
   "outputs": [
    {
     "name": "stdout",
     "output_type": "stream",
     "text": [
      "Looking in indexes: https://pypi.tuna.tsinghua.edu.cn/simple\n",
      "Requirement already satisfied: transformers in /environment/miniconda3/lib/python3.10/site-packages (4.37.2)\n",
      "Collecting datasets\n",
      "  Downloading https://pypi.tuna.tsinghua.edu.cn/packages/73/75/ead8e4489217835fd8004c9c89dad8217deacd7e2591340dbe249b58c29f/datasets-2.17.1-py3-none-any.whl (536 kB)\n",
      "\u001b[2K     \u001b[90m━━━━━━━━━━━━━━━━━━━━━━━━━━━━━━━━━━━━━\u001b[0m \u001b[32m536.7/536.7 kB\u001b[0m \u001b[31m128.4 MB/s\u001b[0m eta \u001b[36m0:00:00\u001b[0m\n",
      "\u001b[?25hRequirement already satisfied: filelock in /environment/miniconda3/lib/python3.10/site-packages (from transformers) (3.9.0)\n",
      "Requirement already satisfied: huggingface-hub<1.0,>=0.19.3 in /environment/miniconda3/lib/python3.10/site-packages (from transformers) (0.20.3)\n",
      "Requirement already satisfied: numpy>=1.17 in /environment/miniconda3/lib/python3.10/site-packages (from transformers) (1.24.1)\n",
      "Requirement already satisfied: packaging>=20.0 in /environment/miniconda3/lib/python3.10/site-packages (from transformers) (23.0)\n",
      "Requirement already satisfied: pyyaml>=5.1 in /environment/miniconda3/lib/python3.10/site-packages (from transformers) (6.0.1)\n",
      "Requirement already satisfied: regex!=2019.12.17 in /environment/miniconda3/lib/python3.10/site-packages (from transformers) (2023.12.25)\n",
      "Requirement already satisfied: requests in /environment/miniconda3/lib/python3.10/site-packages (from transformers) (2.31.0)\n",
      "Requirement already satisfied: tokenizers<0.19,>=0.14 in /environment/miniconda3/lib/python3.10/site-packages (from transformers) (0.15.2)\n",
      "Requirement already satisfied: safetensors>=0.4.1 in /environment/miniconda3/lib/python3.10/site-packages (from transformers) (0.4.2)\n",
      "Requirement already satisfied: tqdm>=4.27 in /environment/miniconda3/lib/python3.10/site-packages (from transformers) (4.65.0)\n",
      "Requirement already satisfied: pyarrow>=12.0.0 in /environment/miniconda3/lib/python3.10/site-packages (from datasets) (15.0.0)\n",
      "Collecting pyarrow-hotfix (from datasets)\n",
      "  Downloading https://pypi.tuna.tsinghua.edu.cn/packages/e4/f4/9ec2222f5f5f8ea04f66f184caafd991a39c8782e31f5b0266f101cb68ca/pyarrow_hotfix-0.6-py3-none-any.whl (7.9 kB)\n",
      "Collecting dill<0.3.9,>=0.3.0 (from datasets)\n",
      "  Downloading https://pypi.tuna.tsinghua.edu.cn/packages/c9/7a/cef76fd8438a42f96db64ddaa85280485a9c395e7df3db8158cfec1eee34/dill-0.3.8-py3-none-any.whl (116 kB)\n",
      "\u001b[2K     \u001b[90m━━━━━━━━━━━━━━━━━━━━━━━━━━━━━━━━━━━━━\u001b[0m \u001b[32m116.3/116.3 kB\u001b[0m \u001b[31m103.8 MB/s\u001b[0m eta \u001b[36m0:00:00\u001b[0m\n",
      "\u001b[?25hRequirement already satisfied: pandas in /environment/miniconda3/lib/python3.10/site-packages (from datasets) (2.1.2)\n",
      "Collecting xxhash (from datasets)\n",
      "  Downloading https://pypi.tuna.tsinghua.edu.cn/packages/80/8a/1dd41557883b6196f8f092011a5c1f72d4d44cf36d7b67d4a5efe3127949/xxhash-3.4.1-cp310-cp310-manylinux_2_17_x86_64.manylinux2014_x86_64.whl (194 kB)\n",
      "\u001b[2K     \u001b[90m━━━━━━━━━━━━━━━━━━━━━━━━━━━━━━━━━━━━━\u001b[0m \u001b[32m194.1/194.1 kB\u001b[0m \u001b[31m122.0 MB/s\u001b[0m eta \u001b[36m0:00:00\u001b[0m\n",
      "\u001b[?25hCollecting multiprocess (from datasets)\n",
      "  Downloading https://pypi.tuna.tsinghua.edu.cn/packages/bc/f7/7ec7fddc92e50714ea3745631f79bd9c96424cb2702632521028e57d3a36/multiprocess-0.70.16-py310-none-any.whl (134 kB)\n",
      "\u001b[2K     \u001b[90m━━━━━━━━━━━━━━━━━━━━━━━━━━━━━━━━━━━━━\u001b[0m \u001b[32m134.8/134.8 kB\u001b[0m \u001b[31m109.2 MB/s\u001b[0m eta \u001b[36m0:00:00\u001b[0m\n",
      "\u001b[?25hCollecting fsspec[http]<=2023.10.0,>=2023.1.0 (from datasets)\n",
      "  Downloading https://pypi.tuna.tsinghua.edu.cn/packages/e8/f6/3eccfb530aac90ad1301c582da228e4763f19e719ac8200752a4841b0b2d/fsspec-2023.10.0-py3-none-any.whl (166 kB)\n",
      "\u001b[2K     \u001b[90m━━━━━━━━━━━━━━━━━━━━━━━━━━━━━━━━━━━━━\u001b[0m \u001b[32m166.4/166.4 kB\u001b[0m \u001b[31m117.4 MB/s\u001b[0m eta \u001b[36m0:00:00\u001b[0m\n",
      "\u001b[?25hRequirement already satisfied: aiohttp in /environment/miniconda3/lib/python3.10/site-packages (from datasets) (3.7.4)\n",
      "Requirement already satisfied: attrs>=17.3.0 in /environment/miniconda3/lib/python3.10/site-packages (from aiohttp->datasets) (23.1.0)\n",
      "Requirement already satisfied: chardet<4.0,>=2.0 in /environment/miniconda3/lib/python3.10/site-packages (from aiohttp->datasets) (3.0.4)\n",
      "Requirement already satisfied: multidict<7.0,>=4.5 in /environment/miniconda3/lib/python3.10/site-packages (from aiohttp->datasets) (6.0.4)\n",
      "Requirement already satisfied: async-timeout<4.0,>=3.0 in /environment/miniconda3/lib/python3.10/site-packages (from aiohttp->datasets) (3.0.1)\n",
      "Requirement already satisfied: yarl<2.0,>=1.0 in /environment/miniconda3/lib/python3.10/site-packages (from aiohttp->datasets) (1.9.2)\n",
      "Requirement already satisfied: typing-extensions>=3.6.5 in /environment/miniconda3/lib/python3.10/site-packages (from aiohttp->datasets) (4.8.0)\n",
      "Requirement already satisfied: charset-normalizer<4,>=2 in /environment/miniconda3/lib/python3.10/site-packages (from requests->transformers) (2.0.4)\n",
      "Requirement already satisfied: idna<4,>=2.5 in /environment/miniconda3/lib/python3.10/site-packages (from requests->transformers) (2.10)\n",
      "Requirement already satisfied: urllib3<3,>=1.21.1 in /environment/miniconda3/lib/python3.10/site-packages (from requests->transformers) (1.25.11)\n",
      "Requirement already satisfied: certifi>=2017.4.17 in /environment/miniconda3/lib/python3.10/site-packages (from requests->transformers) (2023.7.22)\n",
      "Requirement already satisfied: python-dateutil>=2.8.2 in /environment/miniconda3/lib/python3.10/site-packages (from pandas->datasets) (2.8.2)\n",
      "Requirement already satisfied: pytz>=2020.1 in /environment/miniconda3/lib/python3.10/site-packages (from pandas->datasets) (2023.3.post1)\n",
      "Requirement already satisfied: tzdata>=2022.1 in /environment/miniconda3/lib/python3.10/site-packages (from pandas->datasets) (2023.3)\n",
      "Requirement already satisfied: six>=1.5 in /environment/miniconda3/lib/python3.10/site-packages (from python-dateutil>=2.8.2->pandas->datasets) (1.16.0)\n",
      "Installing collected packages: xxhash, pyarrow-hotfix, fsspec, dill, multiprocess, datasets\n",
      "  Attempting uninstall: fsspec\n",
      "    Found existing installation: fsspec 2024.2.0\n",
      "    Uninstalling fsspec-2024.2.0:\n",
      "      Successfully uninstalled fsspec-2024.2.0\n",
      "Successfully installed datasets-2.17.1 dill-0.3.8 fsspec-2023.10.0 multiprocess-0.70.16 pyarrow-hotfix-0.6 xxhash-3.4.1\n"
     ]
    }
   ],
   "source": [
    "!pip install transformers datasets pinecone-client"
   ]
  },
  {
   "cell_type": "markdown",
   "metadata": {},
   "source": [
    "# Chunk Data"
   ]
  },
  {
   "cell_type": "code",
   "execution_count": 2,
   "metadata": {},
   "outputs": [
    {
     "name": "stdout",
     "output_type": "stream",
     "text": [
      "Looking in indexes: https://pypi.tuna.tsinghua.edu.cn/simple\n",
      "Collecting pyarrow\n",
      "  Downloading https://pypi.tuna.tsinghua.edu.cn/packages/d4/ca/ef67abb77f9dd51a0d3ff7fcebff58296068a046d7da352b9548070005ed/pyarrow-15.0.0-cp310-cp310-manylinux_2_28_x86_64.whl (38.3 MB)\n",
      "\u001b[2K     \u001b[90m━━━━━━━━━━━━━━━━━━━━━━━━━━━━━━━━━━━━━━━\u001b[0m \u001b[32m38.3/38.3 MB\u001b[0m \u001b[31m131.9 MB/s\u001b[0m eta \u001b[36m0:00:00\u001b[0ma \u001b[36m0:00:01\u001b[0m\n",
      "\u001b[?25hRequirement already satisfied: numpy<2,>=1.16.6 in /environment/miniconda3/lib/python3.10/site-packages (from pyarrow) (1.24.1)\n",
      "Installing collected packages: pyarrow\n",
      "Successfully installed pyarrow-15.0.0\n"
     ]
    }
   ],
   "source": [
    "!pip install pyarrow"
   ]
  },
  {
   "cell_type": "code",
   "execution_count": 16,
   "metadata": {},
   "outputs": [
    {
     "name": "stderr",
     "output_type": "stream",
     "text": [
      "100%|██████████| 6858/6858 [00:00<00:00, 7258.97it/s]\n"
     ]
    },
    {
     "data": {
      "text/plain": [
       "37360"
      ]
     },
     "execution_count": 16,
     "metadata": {},
     "output_type": "execute_result"
    }
   ],
   "source": [
    "import pandas as pd\n",
    "from tqdm import tqdm\n",
    "\n",
    "\n",
    "def sliding_window(wiki_data, chunck_size = 20, step_size=10):\n",
    "    chunks = []\n",
    "    chunks_topic =  []\n",
    "    \n",
    "    for i in tqdm(range(len(wiki_data))):\n",
    "        topic = wiki_data[i][0]\n",
    "        text = wiki_data[i][1]\n",
    "        words = text.split()\n",
    "    \n",
    "        for i in range(0, len(words) - chunck_size + 1, step_size):\n",
    "            chunks.append(\" \".join(words[i:i + chunck_size]))\n",
    "            chunks_topic.append(topic)\n",
    "    return chunks, chunks_topic\n",
    "\n",
    "\n",
    "wiki_data = pd.read_parquet('./data/wiki_ml_mediawiki_cleaned.parquet').values.tolist()\n",
    "\n",
    "chunck_size = 300\n",
    "step_size = 200\n",
    "chunks, chunks_topic = sliding_window(wiki_data, chunck_size, step_size)\n",
    "len(chunks)"
   ]
  },
  {
   "cell_type": "code",
   "execution_count": 4,
   "metadata": {},
   "outputs": [
    {
     "data": {
      "text/plain": [
       "'in which p 0 x is a non-zero constant. Among the most notable Appell sequences besides the trivial example { x n are the Hermite polynomials, the Bernoulli polynomials, and the Euler polynomials. Every Appell sequence is a Sheffer sequence, but most Sheffer sequences are not Appell sequences. Appell sequences'"
      ]
     },
     "execution_count": 4,
     "metadata": {},
     "output_type": "execute_result"
    }
   ],
   "source": [
    "chunks[4]"
   ]
  },
  {
   "cell_type": "markdown",
   "metadata": {},
   "source": [
    "# Create Embeddings"
   ]
  },
  {
   "cell_type": "code",
   "execution_count": 134,
   "metadata": {},
   "outputs": [],
   "source": [
    "from transformers import AutoModel, AutoTokenizer\n",
    "from torch.utils.data import DataLoader\n",
    "from datasets import load_from_disk, Dataset\n",
    "from tqdm import tqdm\n",
    "import torch\n",
    "import torch.nn.functional as F\n",
    "import numpy as np\n",
    "from torch.nn.utils.rnn import pad_sequence\n",
    "\n",
    "\n",
    "\n",
    "class Encoder:\n",
    "    def __init__(self, checkpoint, MAX_SEQ_LEN, device=\"cuda:0\"):\n",
    "        self.device = device\n",
    "        self.checkpoint = checkpoint\n",
    "        self.model = AutoModel.from_pretrained(checkpoint).to(self.device).half()\n",
    "        self.tokenizer = AutoTokenizer.from_pretrained(checkpoint)\n",
    "        self.sentences= None\n",
    "        self.MAX_SEQ_LEN = MAX_SEQ_LEN\n",
    "\n",
    "    def transform(self, batch):\n",
    "        tokens = self.tokenizer(batch[\"text\"], truncation=True, padding=True, return_tensors=\"pt\", max_length=self.MAX_SEQ_LEN)\n",
    "        return tokens.to(self.device)  \n",
    "\n",
    "    def get_dataloader(self, sentences, batch_size=32):\n",
    "        sentences = [\"Represent this sentence for searching relevant passages: \" + x for x in sentences]\n",
    "        self.sentences= sentences\n",
    "        dataset = Dataset.from_dict({\"text\": sentences})\n",
    "        dataset.set_transform(self.transform)\n",
    "        dataloader = DataLoader(dataset, batch_size=batch_size, shuffle=False)\n",
    "        return dataloader\n",
    "\n",
    "    def encode(self, sentences, show_progress_bar=False, batch_size=32):\n",
    "        dataloader = self.get_dataloader(sentences, batch_size=batch_size)\n",
    "        pbar = tqdm(dataloader) if show_progress_bar else dataloader\n",
    "        embeddings = []\n",
    "        for batch in pbar:\n",
    "            with torch.no_grad():\n",
    "                e = self.model(**batch).pooler_output\n",
    "                e = F.normalize(e, p=2, dim=1)\n",
    "                embeddings.append(e.detach().cpu().numpy())\n",
    "        embeddings = np.concatenate(embeddings, axis=0)\n",
    "        return embeddings"
   ]
  },
  {
   "cell_type": "code",
   "execution_count": 10,
   "metadata": {},
   "outputs": [],
   "source": [
    "# # len(data.dataset[1]['input_ids'])\n",
    "# len(data.dataset[0][\"attention_mask\"])"
   ]
  },
  {
   "cell_type": "code",
   "execution_count": 28,
   "metadata": {},
   "outputs": [],
   "source": [
    "# data = model.encode(chunks, show_progress_bar=False)\n",
    "# for batch in data:\n",
    "#     # print(batch)\n",
    "#     continue"
   ]
  },
  {
   "cell_type": "code",
   "execution_count": null,
   "metadata": {},
   "outputs": [
    {
     "name": "stdout",
     "output_type": "stream",
     "text": [
      "Starting prompt embedding, t=0.0s\n"
     ]
    },
    {
     "name": "stderr",
     "output_type": "stream",
     "text": [
      "Loading checkpoint shards:   0%|          | 0/2 [00:00<?, ?it/s]"
     ]
    }
   ],
   "source": [
    "from time import time\n",
    "\n",
    "MODEL_PATH = \"/home/featurize/work/Transformer-Patcher-main/model_cache/llama2-7b\"\n",
    "\n",
    "MAX_SEQ_LEN = 384\n",
    "\n",
    "\n",
    "start = time()\n",
    "print(f\"Starting prompt embedding, t={time() - start :.1f}s\")\n",
    "model = Encoder(MODEL_PATH, MAX_SEQ_LEN)\n",
    "\n",
    "# # Get embeddings of chunks\n",
    "chunks_embedding = model.encode(chunks, show_progress_bar=True)\n",
    "\n",
    "\n",
    "\n",
    "\n",
    "# # Get embeddings of prompts\n",
    "# f = lambda row : \" \".join([row[\"prompt\"], row[\"A\"], row[\"B\"], row[\"C\"], row[\"D\"], row[\"E\"]])\n",
    "# inputs = df.apply(f, axis=1).values # better results than prompt only\n",
    "# prompt_embeddings = model.encode(inputs, show_progress_bar=False)\n",
    "\n",
    "\n",
    "\n",
    "\n",
    "# # Search closest sentences in the wikipedia index \n",
    "# print(f\"Loading faiss index, t={time() - start :.1f}s\")\n",
    "# faiss_index = faiss.read_index(MODEL_PATH + '/faiss.index')\n",
    "# # faiss_index = faiss.index_cpu_to_all_gpus(faiss_index) # causes OOM, and not that long on CPU\n",
    "\n",
    "# print(f\"Starting text search, t={time() - start :.1f}s\")\n",
    "# search_index = faiss_index.search(np.float32(prompt_embeddings), NUM_TITLES)[1]\n",
    "\n",
    "# print(f\"Starting context extraction, t={time() - start :.1f}s\")\n",
    "# dataset = load_from_disk(\"/kaggle/input/all-paraphs-parsed-expanded\")\n",
    "# for i in range(len(df)):\n",
    "#     df.loc[i, \"context\"] = \"-\" + \"\\n-\".join([dataset[int(j)][\"text\"] for j in search_index[i]])\n",
    "\n",
    "# # Free memory\n",
    "# faiss_index.reset()\n",
    "# del faiss_index, prompt_embeddings, model, dataset\n",
    "# clean_memory()\n",
    "# print(f\"Context added, t={time() - start :.1f}s\")"
   ]
  },
  {
   "cell_type": "code",
   "execution_count": 7,
   "metadata": {},
   "outputs": [],
   "source": [
    "# chunks"
   ]
  },
  {
   "cell_type": "code",
   "execution_count": null,
   "metadata": {},
   "outputs": [],
   "source": [
    "chunks"
   ]
  },
  {
   "cell_type": "code",
   "execution_count": 20,
   "metadata": {},
   "outputs": [
    {
     "data": {
      "text/plain": [
       "(37360, 512)"
      ]
     },
     "execution_count": 20,
     "metadata": {},
     "output_type": "execute_result"
    }
   ],
   "source": [
    "chunks_embedding.shape"
   ]
  },
  {
   "cell_type": "code",
   "execution_count": 26,
   "metadata": {},
   "outputs": [
    {
     "data": {
      "text/plain": [
       "373"
      ]
     },
     "execution_count": 26,
     "metadata": {},
     "output_type": "execute_result"
    }
   ],
   "source": [
    "len(chunks_embedding)//100"
   ]
  },
  {
   "cell_type": "code",
   "execution_count": 28,
   "metadata": {},
   "outputs": [
    {
     "data": {
      "text/plain": [
       "512"
      ]
     },
     "execution_count": 28,
     "metadata": {},
     "output_type": "execute_result"
    }
   ],
   "source": [
    "len(chunks_embedding[0])"
   ]
  },
  {
   "cell_type": "code",
   "execution_count": 31,
   "metadata": {},
   "outputs": [
    {
     "data": {
      "text/plain": [
       "373"
      ]
     },
     "execution_count": 31,
     "metadata": {},
     "output_type": "execute_result"
    }
   ],
   "source": [
    "len(chunks_embedding)//100"
   ]
  },
  {
   "cell_type": "markdown",
   "metadata": {},
   "source": [
    "# VectorDB"
   ]
  },
  {
   "cell_type": "code",
   "execution_count": null,
   "metadata": {},
   "outputs": [],
   "source": [
    "from pinecone import Pinecone, ServerlessSpec\n",
    "from tqdm import tqdm\n",
    "\n",
    "pc = Pinecone(api_key='5a727c08-72c8-4031-8d55-7b268c06c443')\n",
    "# pc.create_index(\n",
    "#     name=\"aipi590\",\n",
    "#     dimension=512,\n",
    "#     metric=\"cosine\",\n",
    "#     spec=ServerlessSpec(\n",
    "#         cloud = \"gcp\",\n",
    "#         region='us-central1'\n",
    "#     ) \n",
    "# ) \n",
    "\n",
    "# pc.delete_index(\"aipi590\")\n",
    "\n",
    "index = pc.Index(\"aipi590\")\n",
    "\n",
    "def vector_store(chunks_embedding, chunks, chunks_topic):\n",
    "    for i in tqdm(range(len(chunks_embedding))):\n",
    "        index.upsert(\n",
    "            vectors=[\n",
    "                {\n",
    "                    'id': f'vec_{i}',\n",
    "                    'values': chunks_embedding[i],\n",
    "                    'metadata': {\"text\":chunks[i], \"topic\":chunks_topic[i]}\n",
    "                }\n",
    "            ],\n",
    "        )\n",
    "vector_db = vector_store(chunks_embedding, chunks, chunks_topic)"
   ]
  },
  {
   "cell_type": "code",
   "execution_count": 75,
   "metadata": {},
   "outputs": [],
   "source": [
    "# embeddings = index.fetch([f'vec_{i}' for i in range(37)])\n",
    "# embeddings['vectors']['vec_20']"
   ]
  },
  {
   "cell_type": "code",
   "execution_count": 78,
   "metadata": {},
   "outputs": [],
   "source": [
    "# df = retrieve_embedding(index, 37)\n",
    "# df"
   ]
  },
  {
   "cell_type": "code",
   "execution_count": null,
   "metadata": {},
   "outputs": [],
   "source": []
  },
  {
   "cell_type": "code",
   "execution_count": 85,
   "metadata": {},
   "outputs": [
    {
     "data": {
      "text/plain": [
       "tensor([[0.9991, 0.7379, 0.9976, 0.9922]])"
      ]
     },
     "execution_count": 85,
     "metadata": {},
     "output_type": "execute_result"
    }
   ],
   "source": [
    "cos_similarity([1.2, 2.2, 3], [[1.2, 2., 3], [2.0, 3 ,.5], [2.0, 3 ,4], [2, 3.8 ,4]])"
   ]
  },
  {
   "cell_type": "markdown",
   "metadata": {},
   "source": [
    "# Retrieval"
   ]
  },
  {
   "cell_type": "code",
   "execution_count": 131,
   "metadata": {},
   "outputs": [
    {
     "name": "stderr",
     "output_type": "stream",
     "text": [
      "Some weights of the model checkpoint at bert-large-uncased-whole-word-masking-finetuned-squad were not used when initializing BertForQuestionAnswering: ['bert.pooler.dense.bias', 'bert.pooler.dense.weight']\n",
      "- This IS expected if you are initializing BertForQuestionAnswering from the checkpoint of a model trained on another task or with another architecture (e.g. initializing a BertForSequenceClassification model from a BertForPreTraining model).\n",
      "- This IS NOT expected if you are initializing BertForQuestionAnswering from the checkpoint of a model that you expect to be exactly identical (initializing a BertForSequenceClassification model from a BertForSequenceClassification model).\n"
     ]
    },
    {
     "name": "stdout",
     "output_type": "stream",
     "text": [
      "##IT use\n"
     ]
    }
   ],
   "source": [
    "def cos_similarity(a, b):\n",
    "    \"\"\"\n",
    "    Computes the cosine similarity.\n",
    "    \"\"\"\n",
    "    if not isinstance(a, torch.Tensor):\n",
    "        a = torch.tensor(a).float()\n",
    "\n",
    "    if not isinstance(b, torch.Tensor):\n",
    "        b = torch.tensor(b).float()\n",
    "\n",
    "    if len(a.shape) == 1:\n",
    "        a = a.unsqueeze(0)\n",
    "\n",
    "    if len(b.shape) == 1:\n",
    "        b = b.unsqueeze(0)\n",
    "    a_norm = torch.nn.functional.normalize(a, p=2, dim=1)\n",
    "    b_norm = torch.nn.functional.normalize(b, p=2, dim=1)\n",
    "    \n",
    "    return torch.mm(a_norm, b_norm.transpose(0, 1))\n",
    "\n",
    "def retrieve_embedding(index, num_embed):\n",
    "    embeddings_data = {\"id\":[], \"values\":[], \"text\":[]}\n",
    "    embeddings = index.fetch([f'vec_{i}' for i in range(num_embed)])\n",
    "    \n",
    "    for i in range(num_embed):\n",
    "        embeddings_data[\"id\"].append(i)\n",
    "        idx = f\"vec_{i}\"\n",
    "        embeddings_data[\"text\"].append(embeddings['vectors'][idx]['metadata']['text'])\n",
    "        embeddings_data[\"values\"].append(embeddings['vectors'][idx]['values'])\n",
    "        \n",
    "    return pd.DataFrame(embeddings_data)\n",
    "\n",
    "def retrieve_content(query_embedding, corpus_embeddings, top_k):\n",
    "    sim_score = cos_similarity(query_embedding, corpus_embeddings)\n",
    "    \n",
    "    scores, idxs = torch.topk(sim_score, top_k, dim=1)\n",
    "    \n",
    "    return {'corpus_id': idxs, 'score': scores}\n",
    "\n",
    "\n",
    "\n",
    "\n",
    "prompt = test_df.iloc[[0], :].input.values[0]\n",
    "a, b, c, d = test_df.iloc[[0], 1:-1].values[0]\n",
    "\n",
    "query = f\"\"\"Answer the following multiple choice question by giving the most appropriate response. Answer should be one among [A, B, C, D]\n",
    "\n",
    "Question: {prompt}\\n\n",
    "A) {a}\\n\n",
    "B) {b}\\n\n",
    "C) {c}\\n\n",
    "D) {d}\\n\n",
    "\n",
    "### Answer:\\n\"\"\"\n",
    "\n",
    "\n",
    "query_embedding = model.encode([query], show_progress_bar=False)\n",
    "\n",
    "embedding_df = retrieve_embedding(index, len(chunks)//1000)\n",
    "\n",
    "corpus_embeddings = embedding_df[\"values\"].tolist()\n",
    "\n",
    "results = retrieve_content(query_embedding, corpus_embeddings, top_k = 3)\n",
    "\n",
    "retrieve_context = embedding_df.loc[results['corpus_id'].numpy().flatten(), \"text\"].values\n",
    "\n",
    "\n",
    "context = \" \".join([f\"#{str(i)}\" for i in retrieve_context])\n",
    "# query_w_context = f\"\"\"Answer the following multiple choice question by giving the most appropriate response. Answer should be one among [A, B, C, D]\n",
    "\n",
    "# Question: {prompt}\\n\n",
    "# A) {a}\\n\n",
    "# B) {b}\\n\n",
    "# C) {c}\\n\n",
    "# D) {d}\\n\n",
    "\n",
    "# Here is the relavant context: {context}. Answer the question using the context provided.\n",
    "\n",
    "# ### Answer:\\n\"\"\"\n",
    "\n",
    "    \n",
    "from transformers import pipeline\n",
    "\n",
    "# Initialize a pipeline for question answering\n",
    "qa_pipeline = pipeline('question-answering', model='bert-large-uncased-whole-word-masking-finetuned-squad')\n",
    "\n",
    "# Generate an answer\n",
    "answer = qa_pipeline(question=query, context=context)\n",
    "print(answer['answer'])"
   ]
  },
  {
   "cell_type": "code",
   "execution_count": 133,
   "metadata": {},
   "outputs": [
    {
     "name": "stderr",
     "output_type": "stream",
     "text": [
      "Some weights of the model checkpoint at bert-large-uncased-whole-word-masking-finetuned-squad were not used when initializing BertForQuestionAnswering: ['bert.pooler.dense.bias', 'bert.pooler.dense.weight']\n",
      "- This IS expected if you are initializing BertForQuestionAnswering from the checkpoint of a model trained on another task or with another architecture (e.g. initializing a BertForSequenceClassification model from a BertForPreTraining model).\n",
      "- This IS NOT expected if you are initializing BertForQuestionAnswering from the checkpoint of a model that you expect to be exactly identical (initializing a BertForSequenceClassification model from a BertForSequenceClassification model).\n"
     ]
    },
    {
     "name": "stdout",
     "output_type": "stream",
     "text": [
      "France\n"
     ]
    }
   ],
   "source": [
    "from transformers import pipeline\n",
    "\n",
    "# Initialize a pipeline for question answering\n",
    "qa_pipeline = pipeline('question-answering', model='bert-large-uncased-whole-word-masking-finetuned-squad')\n",
    "\n",
    "# Provide context and question\n",
    "context = \" capital and most populous city of France.\"\n",
    "question = \"What is the capital of France?\"\n",
    "\n",
    "# Generate an answer\n",
    "answer = qa_pipeline(question=question, context=context)\n",
    "print(answer['answer'])"
   ]
  },
  {
   "cell_type": "code",
   "execution_count": 129,
   "metadata": {},
   "outputs": [
    {
     "data": {
      "text/plain": [
       "{'score': 0.0, 'start': 0, 'end': 0, 'answer': ''}"
      ]
     },
     "execution_count": 129,
     "metadata": {},
     "output_type": "execute_result"
    }
   ],
   "source": [
    "answer"
   ]
  },
  {
   "cell_type": "markdown",
   "metadata": {},
   "source": [
    "# Query"
   ]
  },
  {
   "cell_type": "code",
   "execution_count": 92,
   "metadata": {},
   "outputs": [
    {
     "name": "stderr",
     "output_type": "stream",
     "text": [
      "Downloading data: 100%|██████████| 22.7k/22.7k [00:01<00:00, 14.0kB/s]\n",
      "Downloading data: 100%|██████████| 6.72k/6.72k [00:00<00:00, 9.35kB/s]\n",
      "Downloading data: 100%|██████████| 6.68k/6.68k [00:01<00:00, 5.11kB/s]\n",
      "Generating test split: 100%|██████████| 111/111 [00:00<00:00, 14094.87 examples/s]\n",
      "Generating validation split: 100%|██████████| 10/10 [00:00<00:00, 3714.40 examples/s]\n",
      "Generating train split: 100%|██████████| 4/4 [00:00<00:00, 1518.30 examples/s]\n"
     ]
    },
    {
     "data": {
      "text/html": [
       "<div>\n",
       "<style scoped>\n",
       "    .dataframe tbody tr th:only-of-type {\n",
       "        vertical-align: middle;\n",
       "    }\n",
       "\n",
       "    .dataframe tbody tr th {\n",
       "        vertical-align: top;\n",
       "    }\n",
       "\n",
       "    .dataframe thead th {\n",
       "        text-align: right;\n",
       "    }\n",
       "</style>\n",
       "<table border=\"1\" class=\"dataframe\">\n",
       "  <thead>\n",
       "    <tr style=\"text-align: right;\">\n",
       "      <th></th>\n",
       "      <th>input</th>\n",
       "      <th>A</th>\n",
       "      <th>B</th>\n",
       "      <th>C</th>\n",
       "      <th>D</th>\n",
       "      <th>target</th>\n",
       "    </tr>\n",
       "  </thead>\n",
       "  <tbody>\n",
       "    <tr>\n",
       "      <th>0</th>\n",
       "      <td>Statement 1| RoBERTa pretrains on a corpus tha...</td>\n",
       "      <td>True, True</td>\n",
       "      <td>False, False</td>\n",
       "      <td>True, False</td>\n",
       "      <td>False, True</td>\n",
       "      <td>C</td>\n",
       "    </tr>\n",
       "  </tbody>\n",
       "</table>\n",
       "</div>"
      ],
      "text/plain": [
       "                                               input           A  \\\n",
       "0  Statement 1| RoBERTa pretrains on a corpus tha...  True, True   \n",
       "\n",
       "              B            C            D target  \n",
       "0  False, False  True, False  False, True      C  "
      ]
     },
     "execution_count": 92,
     "metadata": {},
     "output_type": "execute_result"
    }
   ],
   "source": [
    "from datasets import load_dataset\n",
    "\n",
    "dataset = load_dataset(\"lukaemon/mmlu\", \"machine_learning\", split=\"test\")\n",
    "few_shots = load_dataset(\"lukaemon/mmlu\", \"machine_learning\", split=\"train\")\n",
    "test_df = pd.DataFrame(dataset)\n",
    "test_df.iloc[[0], :]"
   ]
  }
 ],
 "metadata": {
  "kernelspec": {
   "display_name": "Python 3 (ipykernel)",
   "language": "python",
   "name": "python3"
  },
  "language_info": {
   "codemirror_mode": {
    "name": "ipython",
    "version": 3
   },
   "file_extension": ".py",
   "mimetype": "text/x-python",
   "name": "python",
   "nbconvert_exporter": "python",
   "pygments_lexer": "ipython3",
   "version": "3.9.13"
  }
 },
 "nbformat": 4,
 "nbformat_minor": 4
}
