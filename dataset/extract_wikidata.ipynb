{
 "cells": [
  {
   "cell_type": "code",
   "execution_count": null,
   "metadata": {},
   "outputs": [],
   "source": [
    "!pip3 install wikipedia-api"
   ]
  },
  {
   "cell_type": "code",
   "execution_count": null,
   "metadata": {},
   "outputs": [],
   "source": [
    "import wikipediaapi\n",
    "import pandas as pd \n",
    "from wikiextractor.clean import clean_markup\n",
    "\n",
    "def get_categorymembers(categorymembers, level=0, max_level=1, root_pages=None):\n",
    "    if root_pages is None:\n",
    "        root_pages = []\n",
    "\n",
    "    for c in categorymembers.values():\n",
    "        if c.ns == wikipediaapi.Namespace.CATEGORY and level < max_level:\n",
    "            get_categorymembers(c.categorymembers, level=level + 1, max_level=max_level, root_pages=root_pages)\n",
    "        else:\n",
    "            if c.title.startswith('Category'):\n",
    "                try:\n",
    "                    title  = c.title.split(\":\")[1]\n",
    "                except:\n",
    "                    continue\n",
    "            else:\n",
    "                title = c.title\n",
    "            root_pages.append(title)\n",
    "    return root_pages\n",
    "\n",
    "def get_root_pages_from_category(category_name):\n",
    "    cat = wiki_wiki.page(f\"Category:{category_name}\")\n",
    "    return get_categorymembers(cat.categorymembers)\n",
    "\n",
    "# Example usage:\n",
    "\n",
    "API_KEY = 'ProjName (email)'\n",
    "wiki_wiki = wikipediaapi.Wikipedia(API_KEY, 'en')\n",
    "\n",
    "domains = [\"Statistics\", \"Artificial intelligence\", \"Computational mathematics\", \"Numerical analysis\", \"Applied mathematics\", \"Probability\"]\n",
    "root_pages = []\n",
    "for domain in domains:\n",
    "    root_page = get_root_pages_from_category(domain)\n",
    "    root_pages += root_page\n",
    "\n",
    "root_pages = set(root_pages)"
   ]
  },
  {
   "cell_type": "code",
   "execution_count": null,
   "metadata": {},
   "outputs": [],
   "source": [
    "wiki_data = {\"topic\":[], \"text\":[]}\n",
    "for page in root_pages:\n",
    "   wiki_data[\"topic\"].append(page)\n",
    "   wiki_data[\"text\"].append(wiki_wiki.page(page).text)\n",
    "\n",
    "wiki_df = pd.DataFrame(wiki_data)\n",
    "wiki_df = wiki_df.query(\"text.str.len() != 0\")\n",
    "wiki_df = wiki_df.reset_index(drop=True)\n",
    "wiki_df.to_parquet('wiki_ml.parquet')"
   ]
  },
  {
   "cell_type": "code",
   "execution_count": 1,
   "metadata": {},
   "outputs": [],
   "source": [
    "\n",
    "\n",
    "def find_noise_section(strings):\n",
    "    for index, string in enumerate(strings):\n",
    "        if string.startswith(\"See also.\") or string.startswith(\"External links.\") or string.startswith(\"References.\") or string.startswith(\"Bibliography.\"):\n",
    "            return index\n",
    "    return -1\n",
    "\n",
    "def clean_text(text):\n",
    "    \n",
    "    paragraphs = list(clean_markup(text, ignore_headers=False))\n",
    "    \n",
    "    # text = [paragraph for paragraph in paragraphs if len(paragraph) > 3]\n",
    "    text = []\n",
    "    for paragraph in paragraphs:\n",
    "        if len(paragraph) > 5 or len(text) == 0:\n",
    "            text.append(paragraph)\n",
    "        else:\n",
    "            text[-1] = text[-1] + \" \" + \" \".join(paragraph.split(\" \"))\n",
    "    text = \"\\n\".join(text)\n",
    "    \n",
    "    index = find_noise_section(text.split(\"## \"))\n",
    "    if index!= -1:\n",
    "        text = text.split(\"## \")[:index]\n",
    "        return \" ##\".join(text)\n",
    "    \n",
    "    return text\n",
    "\n",
    "\n",
    "\n",
    "wiki_df = pd.read_parquet('./data/wiki_ml_mediawiki.parquet')\n",
    "wiki_df.text = wiki_df.text.apply(clean_text)\n",
    "wiki_df[\"id\"] = wiki_df.index\n",
    "wiki_df.to_parquet('./data/wiki_ml_mediawiki_cleaned.parquet')"
   ]
  }
 ],
 "metadata": {
  "kernelspec": {
   "display_name": "base",
   "language": "python",
   "name": "python3"
  },
  "language_info": {
   "codemirror_mode": {
    "name": "ipython",
    "version": 3
   },
   "file_extension": ".py",
   "mimetype": "text/x-python",
   "name": "python",
   "nbconvert_exporter": "python",
   "pygments_lexer": "ipython3",
   "version": "3.9.13"
  }
 },
 "nbformat": 4,
 "nbformat_minor": 2
}
