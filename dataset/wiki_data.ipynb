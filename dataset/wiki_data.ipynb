{
 "cells": [
  {
   "cell_type": "code",
   "execution_count": null,
   "metadata": {},
   "outputs": [],
   "source": [
    "!pip3 install wikipedia-api"
   ]
  },
  {
   "cell_type": "code",
   "execution_count": null,
   "metadata": {},
   "outputs": [],
   "source": [
    "import wikipediaapi\n",
    "import pandas as pd \n",
    "\n",
    "\n",
    "def get_categorymembers(categorymembers, level=0, max_level=1, root_pages=None):\n",
    "    if root_pages is None:\n",
    "        root_pages = []\n",
    "\n",
    "    for c in categorymembers.values():\n",
    "        if c.ns == wikipediaapi.Namespace.CATEGORY and level < max_level:\n",
    "            get_categorymembers(c.categorymembers, level=level + 1, max_level=max_level, root_pages=root_pages)\n",
    "        else:\n",
    "            if c.title.startswith('Category'):\n",
    "                try:\n",
    "                    title  = c.title.split(\":\")[1]\n",
    "                except:\n",
    "                    continue\n",
    "            else:\n",
    "                title = c.title\n",
    "            root_pages.append(title)\n",
    "    return root_pages\n",
    "\n",
    "def get_root_pages_from_category(category_name):\n",
    "    cat = wiki_wiki.page(f\"Category:{category_name}\")\n",
    "    return get_categorymembers(cat.categorymembers)\n",
    "\n",
    "# Example usage:\n",
    "\n",
    "API_KEY = 'ProjName (email)'\n",
    "wiki_wiki = wikipediaapi.Wikipedia(API_KEY, 'en')\n",
    "\n",
    "domains = [\"Statistics\", \"Artificial intelligence\", \"Computational mathematics\", \"Numerical analysis\", \"Applied mathematics\", \"Probability\"]\n",
    "root_pages = []\n",
    "for domain in domains:\n",
    "    root_page = get_root_pages_from_category(domain)\n",
    "    root_pages += root_page\n",
    "\n",
    "root_pages = set(root_pages)"
   ]
  },
  {
   "cell_type": "code",
   "execution_count": null,
   "metadata": {},
   "outputs": [],
   "source": [
    "wiki_data = {\"topic\":[], \"text\":[]}\n",
    "for page in root_pages:\n",
    "   wiki_data[\"topic\"].append(page)\n",
    "   wiki_data[\"text\"].append(wiki_wiki.page(page).text)\n",
    "\n",
    "wiki_df = pd.DataFrame(wiki_data)\n",
    "wiki_df = wiki_df.query(\"text.str.len() != 0\")\n",
    "wiki_df = wiki_df.reset_index(drop=True)\n",
    "wiki_df.to_parquet('wiki_ml.parquet')"
   ]
  },
  {
   "cell_type": "code",
   "execution_count": null,
   "metadata": {},
   "outputs": [],
   "source": [
    "# category_page = wiki_wiki.page('Category:Artificial intelligence')\n",
    "# chosen_list = list(category_page.categorymembers.items())\n",
    "# # wiki_wiki.page(\"Category:AI accelerators\").text\n",
    "\n",
    "# # wiki_wiki.page(split_category_members(chosen_list)[1][0][0]).text\n",
    "# chosen_list\n"
   ]
  }
 ],
 "metadata": {
  "kernelspec": {
   "display_name": "base",
   "language": "python",
   "name": "python3"
  },
  "language_info": {
   "name": "python",
   "version": "3.9.0"
  }
 },
 "nbformat": 4,
 "nbformat_minor": 2
}
